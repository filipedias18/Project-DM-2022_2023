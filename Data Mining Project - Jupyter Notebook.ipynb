{
 "cells": [
  {
   "cell_type": "markdown",
   "id": "75a0d437",
   "metadata": {},
   "source": [
    "## 1. Data Integration"
   ]
  },
  {
   "cell_type": "code",
   "execution_count": 1,
   "id": "732c6553",
   "metadata": {},
   "outputs": [],
   "source": [
    "import pandas as pd\n",
    "import numpy as np\n",
    "import seaborn as sns"
   ]
  },
  {
   "cell_type": "code",
   "execution_count": 2,
   "id": "85c8a974",
   "metadata": {},
   "outputs": [],
   "source": [
    "customers = pd.read_sas(\"a2z_insurance.sas7bdat\")"
   ]
  },
  {
   "cell_type": "code",
   "execution_count": 3,
   "id": "ee49f469",
   "metadata": {},
   "outputs": [],
   "source": [
    "customers.set_index('CustID', inplace = True)"
   ]
  },
  {
   "cell_type": "code",
   "execution_count": 4,
   "id": "9e48a770",
   "metadata": {},
   "outputs": [
    {
     "data": {
      "text/html": [
       "<div>\n",
       "<style scoped>\n",
       "    .dataframe tbody tr th:only-of-type {\n",
       "        vertical-align: middle;\n",
       "    }\n",
       "\n",
       "    .dataframe tbody tr th {\n",
       "        vertical-align: top;\n",
       "    }\n",
       "\n",
       "    .dataframe thead th {\n",
       "        text-align: right;\n",
       "    }\n",
       "</style>\n",
       "<table border=\"1\" class=\"dataframe\">\n",
       "  <thead>\n",
       "    <tr style=\"text-align: right;\">\n",
       "      <th></th>\n",
       "      <th>FirstPolYear</th>\n",
       "      <th>BirthYear</th>\n",
       "      <th>EducDeg</th>\n",
       "      <th>MonthSal</th>\n",
       "      <th>GeoLivArea</th>\n",
       "      <th>Children</th>\n",
       "      <th>CustMonVal</th>\n",
       "      <th>ClaimsRate</th>\n",
       "      <th>PremMotor</th>\n",
       "      <th>PremHousehold</th>\n",
       "      <th>PremHealth</th>\n",
       "      <th>PremLife</th>\n",
       "      <th>PremWork</th>\n",
       "    </tr>\n",
       "    <tr>\n",
       "      <th>CustID</th>\n",
       "      <th></th>\n",
       "      <th></th>\n",
       "      <th></th>\n",
       "      <th></th>\n",
       "      <th></th>\n",
       "      <th></th>\n",
       "      <th></th>\n",
       "      <th></th>\n",
       "      <th></th>\n",
       "      <th></th>\n",
       "      <th></th>\n",
       "      <th></th>\n",
       "      <th></th>\n",
       "    </tr>\n",
       "  </thead>\n",
       "  <tbody>\n",
       "    <tr>\n",
       "      <th>1.0</th>\n",
       "      <td>1985.0</td>\n",
       "      <td>1982.0</td>\n",
       "      <td>b'2 - High School'</td>\n",
       "      <td>2177.0</td>\n",
       "      <td>1.0</td>\n",
       "      <td>1.0</td>\n",
       "      <td>380.97</td>\n",
       "      <td>0.39</td>\n",
       "      <td>375.85</td>\n",
       "      <td>79.45</td>\n",
       "      <td>146.36</td>\n",
       "      <td>47.01</td>\n",
       "      <td>16.89</td>\n",
       "    </tr>\n",
       "    <tr>\n",
       "      <th>2.0</th>\n",
       "      <td>1981.0</td>\n",
       "      <td>1995.0</td>\n",
       "      <td>b'2 - High School'</td>\n",
       "      <td>677.0</td>\n",
       "      <td>4.0</td>\n",
       "      <td>1.0</td>\n",
       "      <td>-131.13</td>\n",
       "      <td>1.12</td>\n",
       "      <td>77.46</td>\n",
       "      <td>416.20</td>\n",
       "      <td>116.69</td>\n",
       "      <td>194.48</td>\n",
       "      <td>106.13</td>\n",
       "    </tr>\n",
       "    <tr>\n",
       "      <th>3.0</th>\n",
       "      <td>1991.0</td>\n",
       "      <td>1970.0</td>\n",
       "      <td>b'1 - Basic'</td>\n",
       "      <td>2277.0</td>\n",
       "      <td>3.0</td>\n",
       "      <td>0.0</td>\n",
       "      <td>504.67</td>\n",
       "      <td>0.28</td>\n",
       "      <td>206.15</td>\n",
       "      <td>224.50</td>\n",
       "      <td>124.58</td>\n",
       "      <td>86.35</td>\n",
       "      <td>99.02</td>\n",
       "    </tr>\n",
       "    <tr>\n",
       "      <th>4.0</th>\n",
       "      <td>1990.0</td>\n",
       "      <td>1981.0</td>\n",
       "      <td>b'3 - BSc/MSc'</td>\n",
       "      <td>1099.0</td>\n",
       "      <td>4.0</td>\n",
       "      <td>1.0</td>\n",
       "      <td>-16.99</td>\n",
       "      <td>0.99</td>\n",
       "      <td>182.48</td>\n",
       "      <td>43.35</td>\n",
       "      <td>311.17</td>\n",
       "      <td>35.34</td>\n",
       "      <td>28.34</td>\n",
       "    </tr>\n",
       "    <tr>\n",
       "      <th>5.0</th>\n",
       "      <td>1986.0</td>\n",
       "      <td>1973.0</td>\n",
       "      <td>b'3 - BSc/MSc'</td>\n",
       "      <td>1763.0</td>\n",
       "      <td>4.0</td>\n",
       "      <td>1.0</td>\n",
       "      <td>35.23</td>\n",
       "      <td>0.90</td>\n",
       "      <td>338.62</td>\n",
       "      <td>47.80</td>\n",
       "      <td>182.59</td>\n",
       "      <td>18.78</td>\n",
       "      <td>41.45</td>\n",
       "    </tr>\n",
       "  </tbody>\n",
       "</table>\n",
       "</div>"
      ],
      "text/plain": [
       "        FirstPolYear  BirthYear             EducDeg  MonthSal  GeoLivArea  \\\n",
       "CustID                                                                      \n",
       "1.0           1985.0     1982.0  b'2 - High School'    2177.0         1.0   \n",
       "2.0           1981.0     1995.0  b'2 - High School'     677.0         4.0   \n",
       "3.0           1991.0     1970.0        b'1 - Basic'    2277.0         3.0   \n",
       "4.0           1990.0     1981.0      b'3 - BSc/MSc'    1099.0         4.0   \n",
       "5.0           1986.0     1973.0      b'3 - BSc/MSc'    1763.0         4.0   \n",
       "\n",
       "        Children  CustMonVal  ClaimsRate  PremMotor  PremHousehold  \\\n",
       "CustID                                                               \n",
       "1.0          1.0      380.97        0.39     375.85          79.45   \n",
       "2.0          1.0     -131.13        1.12      77.46         416.20   \n",
       "3.0          0.0      504.67        0.28     206.15         224.50   \n",
       "4.0          1.0      -16.99        0.99     182.48          43.35   \n",
       "5.0          1.0       35.23        0.90     338.62          47.80   \n",
       "\n",
       "        PremHealth  PremLife  PremWork  \n",
       "CustID                                  \n",
       "1.0         146.36     47.01     16.89  \n",
       "2.0         116.69    194.48    106.13  \n",
       "3.0         124.58     86.35     99.02  \n",
       "4.0         311.17     35.34     28.34  \n",
       "5.0         182.59     18.78     41.45  "
      ]
     },
     "execution_count": 4,
     "metadata": {},
     "output_type": "execute_result"
    }
   ],
   "source": [
    "customers.head()"
   ]
  },
  {
   "cell_type": "markdown",
   "id": "29745de8",
   "metadata": {},
   "source": [
    "## 2. Data Exploration"
   ]
  },
  {
   "cell_type": "code",
   "execution_count": 5,
   "id": "19a509e6",
   "metadata": {},
   "outputs": [
    {
     "name": "stdout",
     "output_type": "stream",
     "text": [
      "<class 'pandas.core.frame.DataFrame'>\n",
      "Float64Index: 10296 entries, 1.0 to 10296.0\n",
      "Data columns (total 13 columns):\n",
      " #   Column         Non-Null Count  Dtype  \n",
      "---  ------         --------------  -----  \n",
      " 0   FirstPolYear   10266 non-null  float64\n",
      " 1   BirthYear      10279 non-null  float64\n",
      " 2   EducDeg        10279 non-null  object \n",
      " 3   MonthSal       10260 non-null  float64\n",
      " 4   GeoLivArea     10295 non-null  float64\n",
      " 5   Children       10275 non-null  float64\n",
      " 6   CustMonVal     10296 non-null  float64\n",
      " 7   ClaimsRate     10296 non-null  float64\n",
      " 8   PremMotor      10262 non-null  float64\n",
      " 9   PremHousehold  10296 non-null  float64\n",
      " 10  PremHealth     10253 non-null  float64\n",
      " 11  PremLife       10192 non-null  float64\n",
      " 12  PremWork       10210 non-null  float64\n",
      "dtypes: float64(12), object(1)\n",
      "memory usage: 1.1+ MB\n"
     ]
    }
   ],
   "source": [
    "customers.info()"
   ]
  },
  {
   "cell_type": "code",
   "execution_count": 9,
   "id": "21088c48",
   "metadata": {},
   "outputs": [
    {
     "data": {
      "text/html": [
       "<div>\n",
       "<style scoped>\n",
       "    .dataframe tbody tr th:only-of-type {\n",
       "        vertical-align: middle;\n",
       "    }\n",
       "\n",
       "    .dataframe tbody tr th {\n",
       "        vertical-align: top;\n",
       "    }\n",
       "\n",
       "    .dataframe thead th {\n",
       "        text-align: right;\n",
       "    }\n",
       "</style>\n",
       "<table border=\"1\" class=\"dataframe\">\n",
       "  <thead>\n",
       "    <tr style=\"text-align: right;\">\n",
       "      <th></th>\n",
       "      <th>count</th>\n",
       "      <th>unique</th>\n",
       "      <th>top</th>\n",
       "      <th>freq</th>\n",
       "      <th>mean</th>\n",
       "      <th>std</th>\n",
       "      <th>min</th>\n",
       "      <th>25%</th>\n",
       "      <th>50%</th>\n",
       "      <th>75%</th>\n",
       "      <th>max</th>\n",
       "    </tr>\n",
       "  </thead>\n",
       "  <tbody>\n",
       "    <tr>\n",
       "      <th>FirstPolYear</th>\n",
       "      <td>10266.0</td>\n",
       "      <td>NaN</td>\n",
       "      <td>NaN</td>\n",
       "      <td>NaN</td>\n",
       "      <td>1991.062634</td>\n",
       "      <td>511.267913</td>\n",
       "      <td>1974.0</td>\n",
       "      <td>1980.0</td>\n",
       "      <td>1986.0</td>\n",
       "      <td>1992.0</td>\n",
       "      <td>53784.0</td>\n",
       "    </tr>\n",
       "    <tr>\n",
       "      <th>BirthYear</th>\n",
       "      <td>10279.0</td>\n",
       "      <td>NaN</td>\n",
       "      <td>NaN</td>\n",
       "      <td>NaN</td>\n",
       "      <td>1968.007783</td>\n",
       "      <td>19.709476</td>\n",
       "      <td>1028.0</td>\n",
       "      <td>1953.0</td>\n",
       "      <td>1968.0</td>\n",
       "      <td>1983.0</td>\n",
       "      <td>2001.0</td>\n",
       "    </tr>\n",
       "    <tr>\n",
       "      <th>MonthSal</th>\n",
       "      <td>10260.0</td>\n",
       "      <td>NaN</td>\n",
       "      <td>NaN</td>\n",
       "      <td>NaN</td>\n",
       "      <td>2506.667057</td>\n",
       "      <td>1157.449634</td>\n",
       "      <td>333.0</td>\n",
       "      <td>1706.0</td>\n",
       "      <td>2501.5</td>\n",
       "      <td>3290.25</td>\n",
       "      <td>55215.0</td>\n",
       "    </tr>\n",
       "    <tr>\n",
       "      <th>GeoLivArea</th>\n",
       "      <td>10295.0</td>\n",
       "      <td>NaN</td>\n",
       "      <td>NaN</td>\n",
       "      <td>NaN</td>\n",
       "      <td>2.709859</td>\n",
       "      <td>1.266291</td>\n",
       "      <td>1.0</td>\n",
       "      <td>1.0</td>\n",
       "      <td>3.0</td>\n",
       "      <td>4.0</td>\n",
       "      <td>4.0</td>\n",
       "    </tr>\n",
       "    <tr>\n",
       "      <th>Children</th>\n",
       "      <td>10275</td>\n",
       "      <td>2</td>\n",
       "      <td>True</td>\n",
       "      <td>7262</td>\n",
       "      <td>NaN</td>\n",
       "      <td>NaN</td>\n",
       "      <td>NaN</td>\n",
       "      <td>NaN</td>\n",
       "      <td>NaN</td>\n",
       "      <td>NaN</td>\n",
       "      <td>NaN</td>\n",
       "    </tr>\n",
       "    <tr>\n",
       "      <th>CustMonVal</th>\n",
       "      <td>10296.0</td>\n",
       "      <td>NaN</td>\n",
       "      <td>NaN</td>\n",
       "      <td>NaN</td>\n",
       "      <td>177.892605</td>\n",
       "      <td>1945.811505</td>\n",
       "      <td>-165680.42</td>\n",
       "      <td>-9.44</td>\n",
       "      <td>186.87</td>\n",
       "      <td>399.7775</td>\n",
       "      <td>11875.89</td>\n",
       "    </tr>\n",
       "    <tr>\n",
       "      <th>ClaimsRate</th>\n",
       "      <td>10296.0</td>\n",
       "      <td>NaN</td>\n",
       "      <td>NaN</td>\n",
       "      <td>NaN</td>\n",
       "      <td>0.742772</td>\n",
       "      <td>2.916964</td>\n",
       "      <td>0.0</td>\n",
       "      <td>0.39</td>\n",
       "      <td>0.72</td>\n",
       "      <td>0.98</td>\n",
       "      <td>256.2</td>\n",
       "    </tr>\n",
       "    <tr>\n",
       "      <th>PremMotor</th>\n",
       "      <td>10262.0</td>\n",
       "      <td>NaN</td>\n",
       "      <td>NaN</td>\n",
       "      <td>NaN</td>\n",
       "      <td>300.470252</td>\n",
       "      <td>211.914997</td>\n",
       "      <td>-4.11</td>\n",
       "      <td>190.59</td>\n",
       "      <td>298.61</td>\n",
       "      <td>408.3</td>\n",
       "      <td>11604.42</td>\n",
       "    </tr>\n",
       "    <tr>\n",
       "      <th>PremHousehold</th>\n",
       "      <td>10296.0</td>\n",
       "      <td>NaN</td>\n",
       "      <td>NaN</td>\n",
       "      <td>NaN</td>\n",
       "      <td>210.431192</td>\n",
       "      <td>352.595984</td>\n",
       "      <td>-75.0</td>\n",
       "      <td>49.45</td>\n",
       "      <td>132.8</td>\n",
       "      <td>290.05</td>\n",
       "      <td>25048.8</td>\n",
       "    </tr>\n",
       "    <tr>\n",
       "      <th>PremHealth</th>\n",
       "      <td>10253.0</td>\n",
       "      <td>NaN</td>\n",
       "      <td>NaN</td>\n",
       "      <td>NaN</td>\n",
       "      <td>171.580833</td>\n",
       "      <td>296.405976</td>\n",
       "      <td>-2.11</td>\n",
       "      <td>111.8</td>\n",
       "      <td>162.81</td>\n",
       "      <td>219.82</td>\n",
       "      <td>28272.0</td>\n",
       "    </tr>\n",
       "    <tr>\n",
       "      <th>PremLife</th>\n",
       "      <td>10192.0</td>\n",
       "      <td>NaN</td>\n",
       "      <td>NaN</td>\n",
       "      <td>NaN</td>\n",
       "      <td>41.855782</td>\n",
       "      <td>47.480632</td>\n",
       "      <td>-7.0</td>\n",
       "      <td>9.89</td>\n",
       "      <td>25.56</td>\n",
       "      <td>57.79</td>\n",
       "      <td>398.3</td>\n",
       "    </tr>\n",
       "    <tr>\n",
       "      <th>PremWork</th>\n",
       "      <td>10210.0</td>\n",
       "      <td>NaN</td>\n",
       "      <td>NaN</td>\n",
       "      <td>NaN</td>\n",
       "      <td>41.277514</td>\n",
       "      <td>51.513572</td>\n",
       "      <td>-12.0</td>\n",
       "      <td>10.67</td>\n",
       "      <td>25.67</td>\n",
       "      <td>56.79</td>\n",
       "      <td>1988.7</td>\n",
       "    </tr>\n",
       "  </tbody>\n",
       "</table>\n",
       "</div>"
      ],
      "text/plain": [
       "                 count unique   top  freq         mean          std  \\\n",
       "FirstPolYear   10266.0    NaN   NaN   NaN  1991.062634   511.267913   \n",
       "BirthYear      10279.0    NaN   NaN   NaN  1968.007783    19.709476   \n",
       "MonthSal       10260.0    NaN   NaN   NaN  2506.667057  1157.449634   \n",
       "GeoLivArea     10295.0    NaN   NaN   NaN     2.709859     1.266291   \n",
       "Children         10275      2  True  7262          NaN          NaN   \n",
       "CustMonVal     10296.0    NaN   NaN   NaN   177.892605  1945.811505   \n",
       "ClaimsRate     10296.0    NaN   NaN   NaN     0.742772     2.916964   \n",
       "PremMotor      10262.0    NaN   NaN   NaN   300.470252   211.914997   \n",
       "PremHousehold  10296.0    NaN   NaN   NaN   210.431192   352.595984   \n",
       "PremHealth     10253.0    NaN   NaN   NaN   171.580833   296.405976   \n",
       "PremLife       10192.0    NaN   NaN   NaN    41.855782    47.480632   \n",
       "PremWork       10210.0    NaN   NaN   NaN    41.277514    51.513572   \n",
       "\n",
       "                     min     25%     50%       75%       max  \n",
       "FirstPolYear      1974.0  1980.0  1986.0    1992.0   53784.0  \n",
       "BirthYear         1028.0  1953.0  1968.0    1983.0    2001.0  \n",
       "MonthSal           333.0  1706.0  2501.5   3290.25   55215.0  \n",
       "GeoLivArea           1.0     1.0     3.0       4.0       4.0  \n",
       "Children             NaN     NaN     NaN       NaN       NaN  \n",
       "CustMonVal    -165680.42   -9.44  186.87  399.7775  11875.89  \n",
       "ClaimsRate           0.0    0.39    0.72      0.98     256.2  \n",
       "PremMotor          -4.11  190.59  298.61     408.3  11604.42  \n",
       "PremHousehold      -75.0   49.45   132.8    290.05   25048.8  \n",
       "PremHealth         -2.11   111.8  162.81    219.82   28272.0  \n",
       "PremLife            -7.0    9.89   25.56     57.79     398.3  \n",
       "PremWork           -12.0   10.67   25.67     56.79    1988.7  "
      ]
     },
     "execution_count": 9,
     "metadata": {},
     "output_type": "execute_result"
    }
   ],
   "source": [
    "customers.describe().T"
   ]
  },
  {
   "cell_type": "code",
   "execution_count": 10,
   "id": "71e6214a",
   "metadata": {},
   "outputs": [
    {
     "data": {
      "text/plain": [
       "FirstPolYear      30\n",
       "BirthYear         17\n",
       "EducDeg           17\n",
       "MonthSal          36\n",
       "GeoLivArea         1\n",
       "Children          21\n",
       "CustMonVal         0\n",
       "ClaimsRate         0\n",
       "PremMotor         34\n",
       "PremHousehold      0\n",
       "PremHealth        43\n",
       "PremLife         104\n",
       "PremWork          86\n",
       "dtype: int64"
      ]
     },
     "execution_count": 10,
     "metadata": {},
     "output_type": "execute_result"
    }
   ],
   "source": [
    "customers.isnull().sum()"
   ]
  },
  {
   "cell_type": "code",
   "execution_count": 11,
   "id": "34b7a8d3",
   "metadata": {},
   "outputs": [
    {
     "data": {
      "text/html": [
       "<div>\n",
       "<style scoped>\n",
       "    .dataframe tbody tr th:only-of-type {\n",
       "        vertical-align: middle;\n",
       "    }\n",
       "\n",
       "    .dataframe tbody tr th {\n",
       "        vertical-align: top;\n",
       "    }\n",
       "\n",
       "    .dataframe thead th {\n",
       "        text-align: right;\n",
       "    }\n",
       "</style>\n",
       "<table border=\"1\" class=\"dataframe\">\n",
       "  <thead>\n",
       "    <tr style=\"text-align: right;\">\n",
       "      <th></th>\n",
       "      <th>FirstPolYear</th>\n",
       "      <th>BirthYear</th>\n",
       "      <th>EducDeg</th>\n",
       "      <th>MonthSal</th>\n",
       "      <th>GeoLivArea</th>\n",
       "      <th>Children</th>\n",
       "      <th>CustMonVal</th>\n",
       "      <th>ClaimsRate</th>\n",
       "      <th>PremMotor</th>\n",
       "      <th>PremHousehold</th>\n",
       "      <th>PremHealth</th>\n",
       "      <th>PremLife</th>\n",
       "      <th>PremWork</th>\n",
       "    </tr>\n",
       "    <tr>\n",
       "      <th>CustID</th>\n",
       "      <th></th>\n",
       "      <th></th>\n",
       "      <th></th>\n",
       "      <th></th>\n",
       "      <th></th>\n",
       "      <th></th>\n",
       "      <th></th>\n",
       "      <th></th>\n",
       "      <th></th>\n",
       "      <th></th>\n",
       "      <th></th>\n",
       "      <th></th>\n",
       "      <th></th>\n",
       "    </tr>\n",
       "  </thead>\n",
       "  <tbody>\n",
       "    <tr>\n",
       "      <th>2076.0</th>\n",
       "      <td>1977.0</td>\n",
       "      <td>1974.0</td>\n",
       "      <td>b'2 - High School'</td>\n",
       "      <td>2204.0</td>\n",
       "      <td>4.0</td>\n",
       "      <td>True</td>\n",
       "      <td>-22.11</td>\n",
       "      <td>1.00</td>\n",
       "      <td>214.93</td>\n",
       "      <td>88.90</td>\n",
       "      <td>266.94</td>\n",
       "      <td>39.23</td>\n",
       "      <td>42.12</td>\n",
       "    </tr>\n",
       "    <tr>\n",
       "      <th>2100.0</th>\n",
       "      <td>1987.0</td>\n",
       "      <td>1987.0</td>\n",
       "      <td>b'2 - High School'</td>\n",
       "      <td>1912.0</td>\n",
       "      <td>4.0</td>\n",
       "      <td>True</td>\n",
       "      <td>290.61</td>\n",
       "      <td>0.58</td>\n",
       "      <td>202.37</td>\n",
       "      <td>177.25</td>\n",
       "      <td>306.39</td>\n",
       "      <td>63.90</td>\n",
       "      <td>-0.11</td>\n",
       "    </tr>\n",
       "    <tr>\n",
       "      <th>3507.0</th>\n",
       "      <td>1986.0</td>\n",
       "      <td>1952.0</td>\n",
       "      <td>b'2 - High School'</td>\n",
       "      <td>3900.0</td>\n",
       "      <td>4.0</td>\n",
       "      <td>False</td>\n",
       "      <td>-119.35</td>\n",
       "      <td>1.10</td>\n",
       "      <td>163.03</td>\n",
       "      <td>481.75</td>\n",
       "      <td>224.82</td>\n",
       "      <td>94.35</td>\n",
       "      <td>18.56</td>\n",
       "    </tr>\n",
       "    <tr>\n",
       "      <th>8014.0</th>\n",
       "      <td>1987.0</td>\n",
       "      <td>1987.0</td>\n",
       "      <td>b'2 - High School'</td>\n",
       "      <td>1912.0</td>\n",
       "      <td>4.0</td>\n",
       "      <td>True</td>\n",
       "      <td>290.61</td>\n",
       "      <td>0.58</td>\n",
       "      <td>202.37</td>\n",
       "      <td>177.25</td>\n",
       "      <td>306.39</td>\n",
       "      <td>63.90</td>\n",
       "      <td>-0.11</td>\n",
       "    </tr>\n",
       "    <tr>\n",
       "      <th>8122.0</th>\n",
       "      <td>1977.0</td>\n",
       "      <td>1974.0</td>\n",
       "      <td>b'2 - High School'</td>\n",
       "      <td>2204.0</td>\n",
       "      <td>4.0</td>\n",
       "      <td>True</td>\n",
       "      <td>-22.11</td>\n",
       "      <td>1.00</td>\n",
       "      <td>214.93</td>\n",
       "      <td>88.90</td>\n",
       "      <td>266.94</td>\n",
       "      <td>39.23</td>\n",
       "      <td>42.12</td>\n",
       "    </tr>\n",
       "    <tr>\n",
       "      <th>9554.0</th>\n",
       "      <td>1986.0</td>\n",
       "      <td>1952.0</td>\n",
       "      <td>b'2 - High School'</td>\n",
       "      <td>3900.0</td>\n",
       "      <td>4.0</td>\n",
       "      <td>False</td>\n",
       "      <td>-119.35</td>\n",
       "      <td>1.10</td>\n",
       "      <td>163.03</td>\n",
       "      <td>481.75</td>\n",
       "      <td>224.82</td>\n",
       "      <td>94.35</td>\n",
       "      <td>18.56</td>\n",
       "    </tr>\n",
       "  </tbody>\n",
       "</table>\n",
       "</div>"
      ],
      "text/plain": [
       "        FirstPolYear  BirthYear             EducDeg  MonthSal  GeoLivArea  \\\n",
       "CustID                                                                      \n",
       "2076.0        1977.0     1974.0  b'2 - High School'    2204.0         4.0   \n",
       "2100.0        1987.0     1987.0  b'2 - High School'    1912.0         4.0   \n",
       "3507.0        1986.0     1952.0  b'2 - High School'    3900.0         4.0   \n",
       "8014.0        1987.0     1987.0  b'2 - High School'    1912.0         4.0   \n",
       "8122.0        1977.0     1974.0  b'2 - High School'    2204.0         4.0   \n",
       "9554.0        1986.0     1952.0  b'2 - High School'    3900.0         4.0   \n",
       "\n",
       "        Children  CustMonVal  ClaimsRate  PremMotor  PremHousehold  \\\n",
       "CustID                                                               \n",
       "2076.0      True      -22.11        1.00     214.93          88.90   \n",
       "2100.0      True      290.61        0.58     202.37         177.25   \n",
       "3507.0     False     -119.35        1.10     163.03         481.75   \n",
       "8014.0      True      290.61        0.58     202.37         177.25   \n",
       "8122.0      True      -22.11        1.00     214.93          88.90   \n",
       "9554.0     False     -119.35        1.10     163.03         481.75   \n",
       "\n",
       "        PremHealth  PremLife  PremWork  \n",
       "CustID                                  \n",
       "2076.0      266.94     39.23     42.12  \n",
       "2100.0      306.39     63.90     -0.11  \n",
       "3507.0      224.82     94.35     18.56  \n",
       "8014.0      306.39     63.90     -0.11  \n",
       "8122.0      266.94     39.23     42.12  \n",
       "9554.0      224.82     94.35     18.56  "
      ]
     },
     "execution_count": 11,
     "metadata": {},
     "output_type": "execute_result"
    }
   ],
   "source": [
    "customers[customers.duplicated(keep=False)]"
   ]
  },
  {
   "cell_type": "markdown",
   "id": "6e1b68e9",
   "metadata": {},
   "source": [
    "We identified the duplicated rows presented above, however, we did not consider this a mistake, since it can just be a coincidence, and kept the records."
   ]
  },
  {
   "cell_type": "code",
   "execution_count": 14,
   "id": "73e358c1",
   "metadata": {},
   "outputs": [],
   "source": [
    "import matplotlib.pyplot as plt\n",
    "from math import ceil"
   ]
  },
  {
   "cell_type": "code",
   "execution_count": 22,
   "id": "5af6c36c",
   "metadata": {},
   "outputs": [],
   "source": [
    "non_metric_features = [\"EducDeg\", \"GeoLivArea\", \"Children\"]\n",
    "metric_features = customers.columns.drop(non_metric_features).to_list()"
   ]
  },
  {
   "cell_type": "code",
   "execution_count": 23,
   "id": "ec8978ef",
   "metadata": {},
   "outputs": [
    {
     "data": {
      "image/png": "[encoded data removed]",
      "text/plain": [
       "<Figure size 1440x792 with 10 Axes>"
      ]
     },
     "metadata": {},
     "output_type": "display_data"
    }
   ],
   "source": [
    "sns.set()\n",
    "\n",
    "# Prepare figure. Create individual axes where each box plot will be placed\n",
    "fig, axes = plt.subplots(2, ceil(len(metric_features) / 2), figsize=(20, 11))\n",
    "\n",
    "# Plot data\n",
    "# Iterate across axes objects and associate each box plot (hint: use the ax argument):\n",
    "for ax, feat in zip(axes.flatten(), metric_features): # Notice the zip() function and flatten() method\n",
    "    sns.boxplot(x=customers[feat], ax=ax)\n",
    "\n",
    "# Layout\n",
    "# Add a centered title to the figure:\n",
    "title = \"Numeric Variables' Box Plots\"\n",
    "\n",
    "plt.suptitle(title)\n",
    "\n",
    "plt.show()"
   ]
  },
  {
   "cell_type": "code",
   "execution_count": 13,
   "id": "de25d41e",
   "metadata": {},
   "outputs": [
    {
     "data": {
      "text/plain": [
       "b'3 - BSc/MSc'        4799\n",
       "b'2 - High School'    3510\n",
       "b'1 - Basic'          1272\n",
       "b'4 - PhD'             698\n",
       "NaN                     17\n",
       "Name: EducDeg, dtype: int64"
      ]
     },
     "execution_count": 13,
     "metadata": {},
     "output_type": "execute_result"
    }
   ],
   "source": [
    "customers['EducDeg'].value_counts(dropna=False)"
   ]
  },
  {
   "cell_type": "markdown",
   "id": "986dff8f",
   "metadata": {},
   "source": [
    "## 3. Data Preprocessing"
   ]
  },
  {
   "cell_type": "markdown",
   "id": "41bd03ab",
   "metadata": {},
   "source": [
    "### 3.1 Format Data"
   ]
  },
  {
   "cell_type": "code",
   "execution_count": 7,
   "id": "ef35db91",
   "metadata": {},
   "outputs": [],
   "source": [
    "# fix wrong dtypes\n",
    "customers.Children = customers.Children.astype(\"boolean\")"
   ]
  },
  {
   "cell_type": "markdown",
   "id": "1c27689f",
   "metadata": {},
   "source": [
    "#### 3.1.1 Encoding"
   ]
  },
  {
   "cell_type": "code",
   "execution_count": null,
   "id": "a8221514",
   "metadata": {},
   "outputs": [],
   "source": [
    "customers['EducDeg'].replace(to_replace = \"b'4 - PhD'\",value = 3, inplace = True)\n",
    "customers['EducDeg'].replace(to_replace = \"b'3 - BSc/MSc'\",value = 2, inplace = True)\n",
    "customers['EducDeg'].replace(to_replace = \"b'2 - High School'\",value = 1, inplace = True)\n",
    "customers['EducDeg'].replace(to_replace = \"b'1 - Basic'\",value = 0, inplace = True)\n",
    "customers['EducDeg'].value_counts(dropna=False)"
   ]
  },
  {
   "cell_type": "markdown",
   "id": "f1fb23c0",
   "metadata": {},
   "source": [
    "### 3.2 Missing Values"
   ]
  },
  {
   "cell_type": "code",
   "execution_count": 24,
   "id": "2c7fd56b",
   "metadata": {},
   "outputs": [
    {
     "data": {
      "text/plain": [
       "FirstPolYear     1986.00\n",
       "BirthYear        1968.00\n",
       "MonthSal         2501.50\n",
       "GeoLivArea          3.00\n",
       "Children            1.00\n",
       "CustMonVal        186.87\n",
       "ClaimsRate          0.72\n",
       "PremMotor         298.61\n",
       "PremHousehold     132.80\n",
       "PremHealth        162.81\n",
       "PremLife           25.56\n",
       "PremWork           25.67\n",
       "dtype: float64"
      ]
     },
     "execution_count": 24,
     "metadata": {},
     "output_type": "execute_result"
    }
   ],
   "source": [
    "customers.median(numeric_only=True)"
   ]
  },
  {
   "cell_type": "code",
   "execution_count": 25,
   "id": "5d93b560",
   "metadata": {},
   "outputs": [],
   "source": [
    "modes = customers[non_metric_features].mode().loc[0]"
   ]
  },
  {
   "cell_type": "code",
   "execution_count": 26,
   "id": "f7117e05",
   "metadata": {},
   "outputs": [
    {
     "data": {
      "text/plain": [
       "EducDeg       b'3 - BSc/MSc'\n",
       "GeoLivArea               4.0\n",
       "Children                True\n",
       "Name: 0, dtype: object"
      ]
     },
     "execution_count": 26,
     "metadata": {},
     "output_type": "execute_result"
    }
   ],
   "source": [
    "modes"
   ]
  },
  {
   "cell_type": "code",
   "execution_count": 27,
   "id": "b776fe25",
   "metadata": {},
   "outputs": [
    {
     "data": {
      "text/plain": [
       "FirstPolYear      30\n",
       "BirthYear         17\n",
       "EducDeg            0\n",
       "MonthSal          36\n",
       "GeoLivArea         0\n",
       "Children           0\n",
       "CustMonVal         0\n",
       "ClaimsRate         0\n",
       "PremMotor         34\n",
       "PremHousehold      0\n",
       "PremHealth        43\n",
       "PremLife         104\n",
       "PremWork          86\n",
       "dtype: int64"
      ]
     },
     "execution_count": 27,
     "metadata": {},
     "output_type": "execute_result"
    }
   ],
   "source": [
    "customers.fillna(modes, inplace=True)\n",
    "customers.isna().sum()  # checking how many NaNs we still have"
   ]
  },
  {
   "cell_type": "code",
   "execution_count": 28,
   "id": "9087b8c1",
   "metadata": {},
   "outputs": [],
   "source": [
    "from sklearn.impute import KNNImputer"
   ]
  },
  {
   "cell_type": "code",
   "execution_count": 33,
   "id": "d6372cc9",
   "metadata": {},
   "outputs": [
    {
     "ename": "ValueError",
     "evalue": "Columns must be same length as key",
     "output_type": "error",
     "traceback": [
      "\u001b[0;31m---------------------------------------------------------------------------\u001b[0m",
      "\u001b[0;31mValueError\u001b[0m                                Traceback (most recent call last)",
      "Input \u001b[0;32mIn [33]\u001b[0m, in \u001b[0;36m<cell line: 2>\u001b[0;34m()\u001b[0m\n\u001b[1;32m      1\u001b[0m imputer\u001b[38;5;241m.\u001b[39mfit(customers[metric_features]\u001b[38;5;241m.\u001b[39mvalues\u001b[38;5;241m.\u001b[39mreshape(\u001b[38;5;241m-\u001b[39m\u001b[38;5;241m1\u001b[39m, \u001b[38;5;241m1\u001b[39m))\n\u001b[0;32m----> 2\u001b[0m customers[metric_features] \u001b[38;5;241m=\u001b[39m imputer\u001b[38;5;241m.\u001b[39mtransform(customers[metric_features]\u001b[38;5;241m.\u001b[39mvalues\u001b[38;5;241m.\u001b[39mreshape(\u001b[38;5;241m-\u001b[39m\u001b[38;5;241m1\u001b[39m, \u001b[38;5;241m1\u001b[39m))\n",
      "File \u001b[0;32m~/opt/anaconda3/lib/python3.9/site-packages/pandas/core/frame.py:3643\u001b[0m, in \u001b[0;36mDataFrame.__setitem__\u001b[0;34m(self, key, value)\u001b[0m\n\u001b[1;32m   3641\u001b[0m     \u001b[38;5;28mself\u001b[39m\u001b[38;5;241m.\u001b[39m_setitem_frame(key, value)\n\u001b[1;32m   3642\u001b[0m \u001b[38;5;28;01melif\u001b[39;00m \u001b[38;5;28misinstance\u001b[39m(key, (Series, np\u001b[38;5;241m.\u001b[39mndarray, \u001b[38;5;28mlist\u001b[39m, Index)):\n\u001b[0;32m-> 3643\u001b[0m     \u001b[38;5;28;43mself\u001b[39;49m\u001b[38;5;241;43m.\u001b[39;49m\u001b[43m_setitem_array\u001b[49m\u001b[43m(\u001b[49m\u001b[43mkey\u001b[49m\u001b[43m,\u001b[49m\u001b[43m \u001b[49m\u001b[43mvalue\u001b[49m\u001b[43m)\u001b[49m\n\u001b[1;32m   3644\u001b[0m \u001b[38;5;28;01melif\u001b[39;00m \u001b[38;5;28misinstance\u001b[39m(value, DataFrame):\n\u001b[1;32m   3645\u001b[0m     \u001b[38;5;28mself\u001b[39m\u001b[38;5;241m.\u001b[39m_set_item_frame_value(key, value)\n",
      "File \u001b[0;32m~/opt/anaconda3/lib/python3.9/site-packages/pandas/core/frame.py:3694\u001b[0m, in \u001b[0;36mDataFrame._setitem_array\u001b[0;34m(self, key, value)\u001b[0m\n\u001b[1;32m   3691\u001b[0m         \u001b[38;5;28mself\u001b[39m[col] \u001b[38;5;241m=\u001b[39m value\n\u001b[1;32m   3693\u001b[0m \u001b[38;5;28;01melif\u001b[39;00m \u001b[38;5;28misinstance\u001b[39m(value, np\u001b[38;5;241m.\u001b[39mndarray) \u001b[38;5;129;01mand\u001b[39;00m value\u001b[38;5;241m.\u001b[39mndim \u001b[38;5;241m==\u001b[39m \u001b[38;5;241m2\u001b[39m:\n\u001b[0;32m-> 3694\u001b[0m     \u001b[38;5;28;43mself\u001b[39;49m\u001b[38;5;241;43m.\u001b[39;49m\u001b[43m_iset_not_inplace\u001b[49m\u001b[43m(\u001b[49m\u001b[43mkey\u001b[49m\u001b[43m,\u001b[49m\u001b[43m \u001b[49m\u001b[43mvalue\u001b[49m\u001b[43m)\u001b[49m\n\u001b[1;32m   3696\u001b[0m \u001b[38;5;28;01melif\u001b[39;00m np\u001b[38;5;241m.\u001b[39mndim(value) \u001b[38;5;241m>\u001b[39m \u001b[38;5;241m1\u001b[39m:\n\u001b[1;32m   3697\u001b[0m     \u001b[38;5;66;03m# list of lists\u001b[39;00m\n\u001b[1;32m   3698\u001b[0m     value \u001b[38;5;241m=\u001b[39m DataFrame(value)\u001b[38;5;241m.\u001b[39mvalues\n",
      "File \u001b[0;32m~/opt/anaconda3/lib/python3.9/site-packages/pandas/core/frame.py:3721\u001b[0m, in \u001b[0;36mDataFrame._iset_not_inplace\u001b[0;34m(self, key, value)\u001b[0m\n\u001b[1;32m   3719\u001b[0m \u001b[38;5;28;01mif\u001b[39;00m \u001b[38;5;28mself\u001b[39m\u001b[38;5;241m.\u001b[39mcolumns\u001b[38;5;241m.\u001b[39mis_unique:\n\u001b[1;32m   3720\u001b[0m     \u001b[38;5;28;01mif\u001b[39;00m np\u001b[38;5;241m.\u001b[39mshape(value)[\u001b[38;5;241m-\u001b[39m\u001b[38;5;241m1\u001b[39m] \u001b[38;5;241m!=\u001b[39m \u001b[38;5;28mlen\u001b[39m(key):\n\u001b[0;32m-> 3721\u001b[0m         \u001b[38;5;28;01mraise\u001b[39;00m \u001b[38;5;167;01mValueError\u001b[39;00m(\u001b[38;5;124m\"\u001b[39m\u001b[38;5;124mColumns must be same length as key\u001b[39m\u001b[38;5;124m\"\u001b[39m)\n\u001b[1;32m   3723\u001b[0m     \u001b[38;5;28;01mfor\u001b[39;00m i, col \u001b[38;5;129;01min\u001b[39;00m \u001b[38;5;28menumerate\u001b[39m(key):\n\u001b[1;32m   3724\u001b[0m         \u001b[38;5;28mself\u001b[39m[col] \u001b[38;5;241m=\u001b[39m igetitem(value, i)\n",
      "\u001b[0;31mValueError\u001b[0m: Columns must be same length as key"
     ]
    }
   ],
   "source": [
    "imputer.fit(customers[metric_features].values.reshape(-1, 1))\n",
    "customers[metric_features] = imputer.transform(customers[metric_features].values.reshape(-1, 1))"
   ]
  },
  {
   "cell_type": "code",
   "execution_count": null,
   "id": "0254f4cf",
   "metadata": {},
   "outputs": [],
   "source": []
  }
 ],
 "metadata": {
  "kernelspec": {
   "display_name": "Python 3 (ipykernel)",
   "language": "python",
   "name": "python3"
  },
  "language_info": {
   "codemirror_mode": {
    "name": "ipython",
    "version": 3
   },
   "file_extension": ".py",
   "mimetype": "text/x-python",
   "name": "python",
   "nbconvert_exporter": "python",
   "pygments_lexer": "ipython3",
   "version": "3.9.12"
  }
 },
 "nbformat": 4,
 "nbformat_minor": 5
}

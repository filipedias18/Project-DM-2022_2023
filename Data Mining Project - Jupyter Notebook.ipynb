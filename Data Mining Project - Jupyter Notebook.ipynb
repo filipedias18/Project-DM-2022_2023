{
 "cells": [
  {
   "cell_type": "markdown",
   "id": "e5023af4",
   "metadata": {},
   "source": [
    "# Data Mining Final Project"
   ]
  },
  {
   "cell_type": "markdown",
   "id": "9b60ac2c",
   "metadata": {},
   "source": [
    "## Group Registration"
   ]
  },
  {
   "cell_type": "markdown",
   "id": "d3076a30",
   "metadata": {},
   "source": [
    "|      |     Student Name     |     Student ID     | \n",
    "|---   |         ---          |           ---          |\n",
    "| 1    |      Filipe Dias        |       r20181050        | \n",
    "| 2    |      Inês Santos       |       r20191184         | \n",
    "| 3    |      Manuel Marreiros       |       r20191223        | "
   ]
  },
  {
   "cell_type": "markdown",
   "id": "75a0d437",
   "metadata": {},
   "source": [
    "## 1. Data Exploration"
   ]
  },
  {
   "cell_type": "markdown",
   "id": "8f64e13a",
   "metadata": {},
   "source": [
    "### 1.1. Initial Analysis"
   ]
  },
  {
   "cell_type": "code",
   "execution_count": 1,
   "id": "732c6553",
   "metadata": {},
   "outputs": [],
   "source": [
    "import pandas as pd\n",
    "import numpy as np\n",
    "import seaborn as sns\n",
    "import matplotlib.pyplot as plt\n",
    "from math import ceil"
   ]
  },
  {
   "cell_type": "code",
   "execution_count": 2,
   "id": "85c8a974",
   "metadata": {},
   "outputs": [],
   "source": [
    "#Reading the data\n",
    "customers = pd.read_sas(\"a2z_insurance.sas7bdat\")"
   ]
  },
  {
   "cell_type": "code",
   "execution_count": 3,
   "id": "ee49f469",
   "metadata": {},
   "outputs": [],
   "source": [
    "#Setting the Customer ID as the index of the data\n",
    "customers.set_index('CustID', inplace = True)"
   ]
  },
  {
   "cell_type": "code",
   "execution_count": 5,
   "id": "9e48a770",
   "metadata": {},
   "outputs": [
    {
     "data": {
      "text/html": [
       "<div>\n",
       "<style scoped>\n",
       "    .dataframe tbody tr th:only-of-type {\n",
       "        vertical-align: middle;\n",
       "    }\n",
       "\n",
       "    .dataframe tbody tr th {\n",
       "        vertical-align: top;\n",
       "    }\n",
       "\n",
       "    .dataframe thead th {\n",
       "        text-align: right;\n",
       "    }\n",
       "</style>\n",
       "<table border=\"1\" class=\"dataframe\">\n",
       "  <thead>\n",
       "    <tr style=\"text-align: right;\">\n",
       "      <th></th>\n",
       "      <th>FirstPolYear</th>\n",
       "      <th>BirthYear</th>\n",
       "      <th>EducDeg</th>\n",
       "      <th>MonthSal</th>\n",
       "      <th>GeoLivArea</th>\n",
       "      <th>Children</th>\n",
       "      <th>CustMonVal</th>\n",
       "      <th>ClaimsRate</th>\n",
       "      <th>PremMotor</th>\n",
       "      <th>PremHousehold</th>\n",
       "      <th>PremHealth</th>\n",
       "      <th>PremLife</th>\n",
       "      <th>PremWork</th>\n",
       "    </tr>\n",
       "    <tr>\n",
       "      <th>CustID</th>\n",
       "      <th></th>\n",
       "      <th></th>\n",
       "      <th></th>\n",
       "      <th></th>\n",
       "      <th></th>\n",
       "      <th></th>\n",
       "      <th></th>\n",
       "      <th></th>\n",
       "      <th></th>\n",
       "      <th></th>\n",
       "      <th></th>\n",
       "      <th></th>\n",
       "      <th></th>\n",
       "    </tr>\n",
       "  </thead>\n",
       "  <tbody>\n",
       "    <tr>\n",
       "      <th>1.0</th>\n",
       "      <td>1985.0</td>\n",
       "      <td>1982.0</td>\n",
       "      <td>b'2 - High School'</td>\n",
       "      <td>2177.0</td>\n",
       "      <td>1.0</td>\n",
       "      <td>1.0</td>\n",
       "      <td>380.97</td>\n",
       "      <td>0.39</td>\n",
       "      <td>375.85</td>\n",
       "      <td>79.45</td>\n",
       "      <td>146.36</td>\n",
       "      <td>47.01</td>\n",
       "      <td>16.89</td>\n",
       "    </tr>\n",
       "    <tr>\n",
       "      <th>2.0</th>\n",
       "      <td>1981.0</td>\n",
       "      <td>1995.0</td>\n",
       "      <td>b'2 - High School'</td>\n",
       "      <td>677.0</td>\n",
       "      <td>4.0</td>\n",
       "      <td>1.0</td>\n",
       "      <td>-131.13</td>\n",
       "      <td>1.12</td>\n",
       "      <td>77.46</td>\n",
       "      <td>416.20</td>\n",
       "      <td>116.69</td>\n",
       "      <td>194.48</td>\n",
       "      <td>106.13</td>\n",
       "    </tr>\n",
       "    <tr>\n",
       "      <th>3.0</th>\n",
       "      <td>1991.0</td>\n",
       "      <td>1970.0</td>\n",
       "      <td>b'1 - Basic'</td>\n",
       "      <td>2277.0</td>\n",
       "      <td>3.0</td>\n",
       "      <td>0.0</td>\n",
       "      <td>504.67</td>\n",
       "      <td>0.28</td>\n",
       "      <td>206.15</td>\n",
       "      <td>224.50</td>\n",
       "      <td>124.58</td>\n",
       "      <td>86.35</td>\n",
       "      <td>99.02</td>\n",
       "    </tr>\n",
       "    <tr>\n",
       "      <th>4.0</th>\n",
       "      <td>1990.0</td>\n",
       "      <td>1981.0</td>\n",
       "      <td>b'3 - BSc/MSc'</td>\n",
       "      <td>1099.0</td>\n",
       "      <td>4.0</td>\n",
       "      <td>1.0</td>\n",
       "      <td>-16.99</td>\n",
       "      <td>0.99</td>\n",
       "      <td>182.48</td>\n",
       "      <td>43.35</td>\n",
       "      <td>311.17</td>\n",
       "      <td>35.34</td>\n",
       "      <td>28.34</td>\n",
       "    </tr>\n",
       "    <tr>\n",
       "      <th>5.0</th>\n",
       "      <td>1986.0</td>\n",
       "      <td>1973.0</td>\n",
       "      <td>b'3 - BSc/MSc'</td>\n",
       "      <td>1763.0</td>\n",
       "      <td>4.0</td>\n",
       "      <td>1.0</td>\n",
       "      <td>35.23</td>\n",
       "      <td>0.90</td>\n",
       "      <td>338.62</td>\n",
       "      <td>47.80</td>\n",
       "      <td>182.59</td>\n",
       "      <td>18.78</td>\n",
       "      <td>41.45</td>\n",
       "    </tr>\n",
       "  </tbody>\n",
       "</table>\n",
       "</div>"
      ],
      "text/plain": [
       "        FirstPolYear  BirthYear             EducDeg  MonthSal  GeoLivArea  \\\n",
       "CustID                                                                      \n",
       "1.0           1985.0     1982.0  b'2 - High School'    2177.0         1.0   \n",
       "2.0           1981.0     1995.0  b'2 - High School'     677.0         4.0   \n",
       "3.0           1991.0     1970.0        b'1 - Basic'    2277.0         3.0   \n",
       "4.0           1990.0     1981.0      b'3 - BSc/MSc'    1099.0         4.0   \n",
       "5.0           1986.0     1973.0      b'3 - BSc/MSc'    1763.0         4.0   \n",
       "\n",
       "        Children  CustMonVal  ClaimsRate  PremMotor  PremHousehold  \\\n",
       "CustID                                                               \n",
       "1.0          1.0      380.97        0.39     375.85          79.45   \n",
       "2.0          1.0     -131.13        1.12      77.46         416.20   \n",
       "3.0          0.0      504.67        0.28     206.15         224.50   \n",
       "4.0          1.0      -16.99        0.99     182.48          43.35   \n",
       "5.0          1.0       35.23        0.90     338.62          47.80   \n",
       "\n",
       "        PremHealth  PremLife  PremWork  \n",
       "CustID                                  \n",
       "1.0         146.36     47.01     16.89  \n",
       "2.0         116.69    194.48    106.13  \n",
       "3.0         124.58     86.35     99.02  \n",
       "4.0         311.17     35.34     28.34  \n",
       "5.0         182.59     18.78     41.45  "
      ]
     },
     "execution_count": 5,
     "metadata": {},
     "output_type": "execute_result"
    }
   ],
   "source": [
    "#Dataset head\n",
    "customers.head()"
   ]
  },
  {
   "cell_type": "code",
   "execution_count": 12,
   "id": "19a509e6",
   "metadata": {},
   "outputs": [
    {
     "data": {
      "text/plain": [
       "FirstPolYear     float64\n",
       "BirthYear        float64\n",
       "EducDeg           object\n",
       "MonthSal         float64\n",
       "GeoLivArea       float64\n",
       "Children         float64\n",
       "CustMonVal       float64\n",
       "ClaimsRate       float64\n",
       "PremMotor        float64\n",
       "PremHousehold    float64\n",
       "PremHealth       float64\n",
       "PremLife         float64\n",
       "PremWork         float64\n",
       "dtype: object"
      ]
     },
     "execution_count": 12,
     "metadata": {},
     "output_type": "execute_result"
    }
   ],
   "source": [
    "#Dataset data types\n",
    "customers.dtypes"
   ]
  },
  {
   "cell_type": "code",
   "execution_count": 13,
   "id": "71e6214a",
   "metadata": {},
   "outputs": [
    {
     "data": {
      "text/plain": [
       "FirstPolYear      30\n",
       "BirthYear         17\n",
       "EducDeg           17\n",
       "MonthSal          36\n",
       "GeoLivArea         1\n",
       "Children          21\n",
       "CustMonVal         0\n",
       "ClaimsRate         0\n",
       "PremMotor         34\n",
       "PremHousehold      0\n",
       "PremHealth        43\n",
       "PremLife         104\n",
       "PremWork          86\n",
       "dtype: int64"
      ]
     },
     "execution_count": 13,
     "metadata": {},
     "output_type": "execute_result"
    }
   ],
   "source": [
    "#Count of missing values\n",
    "customers.isnull().sum()"
   ]
  },
  {
   "cell_type": "code",
   "execution_count": 14,
   "id": "db9fa586",
   "metadata": {},
   "outputs": [
    {
     "data": {
      "text/plain": [
       "3"
      ]
     },
     "execution_count": 14,
     "metadata": {},
     "output_type": "execute_result"
    }
   ],
   "source": [
    "#Duplicated observations\n",
    "customers.duplicated().sum()"
   ]
  },
  {
   "cell_type": "code",
   "execution_count": 15,
   "id": "34b7a8d3",
   "metadata": {},
   "outputs": [
    {
     "data": {
      "text/html": [
       "<div>\n",
       "<style scoped>\n",
       "    .dataframe tbody tr th:only-of-type {\n",
       "        vertical-align: middle;\n",
       "    }\n",
       "\n",
       "    .dataframe tbody tr th {\n",
       "        vertical-align: top;\n",
       "    }\n",
       "\n",
       "    .dataframe thead th {\n",
       "        text-align: right;\n",
       "    }\n",
       "</style>\n",
       "<table border=\"1\" class=\"dataframe\">\n",
       "  <thead>\n",
       "    <tr style=\"text-align: right;\">\n",
       "      <th></th>\n",
       "      <th>FirstPolYear</th>\n",
       "      <th>BirthYear</th>\n",
       "      <th>EducDeg</th>\n",
       "      <th>MonthSal</th>\n",
       "      <th>GeoLivArea</th>\n",
       "      <th>Children</th>\n",
       "      <th>CustMonVal</th>\n",
       "      <th>ClaimsRate</th>\n",
       "      <th>PremMotor</th>\n",
       "      <th>PremHousehold</th>\n",
       "      <th>PremHealth</th>\n",
       "      <th>PremLife</th>\n",
       "      <th>PremWork</th>\n",
       "    </tr>\n",
       "    <tr>\n",
       "      <th>CustID</th>\n",
       "      <th></th>\n",
       "      <th></th>\n",
       "      <th></th>\n",
       "      <th></th>\n",
       "      <th></th>\n",
       "      <th></th>\n",
       "      <th></th>\n",
       "      <th></th>\n",
       "      <th></th>\n",
       "      <th></th>\n",
       "      <th></th>\n",
       "      <th></th>\n",
       "      <th></th>\n",
       "    </tr>\n",
       "  </thead>\n",
       "  <tbody>\n",
       "    <tr>\n",
       "      <th>2076.0</th>\n",
       "      <td>1977.0</td>\n",
       "      <td>1974.0</td>\n",
       "      <td>b'2 - High School'</td>\n",
       "      <td>2204.0</td>\n",
       "      <td>4.0</td>\n",
       "      <td>1.0</td>\n",
       "      <td>-22.11</td>\n",
       "      <td>1.00</td>\n",
       "      <td>214.93</td>\n",
       "      <td>88.90</td>\n",
       "      <td>266.94</td>\n",
       "      <td>39.23</td>\n",
       "      <td>42.12</td>\n",
       "    </tr>\n",
       "    <tr>\n",
       "      <th>2100.0</th>\n",
       "      <td>1987.0</td>\n",
       "      <td>1987.0</td>\n",
       "      <td>b'2 - High School'</td>\n",
       "      <td>1912.0</td>\n",
       "      <td>4.0</td>\n",
       "      <td>1.0</td>\n",
       "      <td>290.61</td>\n",
       "      <td>0.58</td>\n",
       "      <td>202.37</td>\n",
       "      <td>177.25</td>\n",
       "      <td>306.39</td>\n",
       "      <td>63.90</td>\n",
       "      <td>-0.11</td>\n",
       "    </tr>\n",
       "    <tr>\n",
       "      <th>3507.0</th>\n",
       "      <td>1986.0</td>\n",
       "      <td>1952.0</td>\n",
       "      <td>b'2 - High School'</td>\n",
       "      <td>3900.0</td>\n",
       "      <td>4.0</td>\n",
       "      <td>0.0</td>\n",
       "      <td>-119.35</td>\n",
       "      <td>1.10</td>\n",
       "      <td>163.03</td>\n",
       "      <td>481.75</td>\n",
       "      <td>224.82</td>\n",
       "      <td>94.35</td>\n",
       "      <td>18.56</td>\n",
       "    </tr>\n",
       "    <tr>\n",
       "      <th>8014.0</th>\n",
       "      <td>1987.0</td>\n",
       "      <td>1987.0</td>\n",
       "      <td>b'2 - High School'</td>\n",
       "      <td>1912.0</td>\n",
       "      <td>4.0</td>\n",
       "      <td>1.0</td>\n",
       "      <td>290.61</td>\n",
       "      <td>0.58</td>\n",
       "      <td>202.37</td>\n",
       "      <td>177.25</td>\n",
       "      <td>306.39</td>\n",
       "      <td>63.90</td>\n",
       "      <td>-0.11</td>\n",
       "    </tr>\n",
       "    <tr>\n",
       "      <th>8122.0</th>\n",
       "      <td>1977.0</td>\n",
       "      <td>1974.0</td>\n",
       "      <td>b'2 - High School'</td>\n",
       "      <td>2204.0</td>\n",
       "      <td>4.0</td>\n",
       "      <td>1.0</td>\n",
       "      <td>-22.11</td>\n",
       "      <td>1.00</td>\n",
       "      <td>214.93</td>\n",
       "      <td>88.90</td>\n",
       "      <td>266.94</td>\n",
       "      <td>39.23</td>\n",
       "      <td>42.12</td>\n",
       "    </tr>\n",
       "    <tr>\n",
       "      <th>9554.0</th>\n",
       "      <td>1986.0</td>\n",
       "      <td>1952.0</td>\n",
       "      <td>b'2 - High School'</td>\n",
       "      <td>3900.0</td>\n",
       "      <td>4.0</td>\n",
       "      <td>0.0</td>\n",
       "      <td>-119.35</td>\n",
       "      <td>1.10</td>\n",
       "      <td>163.03</td>\n",
       "      <td>481.75</td>\n",
       "      <td>224.82</td>\n",
       "      <td>94.35</td>\n",
       "      <td>18.56</td>\n",
       "    </tr>\n",
       "  </tbody>\n",
       "</table>\n",
       "</div>"
      ],
      "text/plain": [
       "        FirstPolYear  BirthYear             EducDeg  MonthSal  GeoLivArea  \\\n",
       "CustID                                                                      \n",
       "2076.0        1977.0     1974.0  b'2 - High School'    2204.0         4.0   \n",
       "2100.0        1987.0     1987.0  b'2 - High School'    1912.0         4.0   \n",
       "3507.0        1986.0     1952.0  b'2 - High School'    3900.0         4.0   \n",
       "8014.0        1987.0     1987.0  b'2 - High School'    1912.0         4.0   \n",
       "8122.0        1977.0     1974.0  b'2 - High School'    2204.0         4.0   \n",
       "9554.0        1986.0     1952.0  b'2 - High School'    3900.0         4.0   \n",
       "\n",
       "        Children  CustMonVal  ClaimsRate  PremMotor  PremHousehold  \\\n",
       "CustID                                                               \n",
       "2076.0       1.0      -22.11        1.00     214.93          88.90   \n",
       "2100.0       1.0      290.61        0.58     202.37         177.25   \n",
       "3507.0       0.0     -119.35        1.10     163.03         481.75   \n",
       "8014.0       1.0      290.61        0.58     202.37         177.25   \n",
       "8122.0       1.0      -22.11        1.00     214.93          88.90   \n",
       "9554.0       0.0     -119.35        1.10     163.03         481.75   \n",
       "\n",
       "        PremHealth  PremLife  PremWork  \n",
       "CustID                                  \n",
       "2076.0      266.94     39.23     42.12  \n",
       "2100.0      306.39     63.90     -0.11  \n",
       "3507.0      224.82     94.35     18.56  \n",
       "8014.0      306.39     63.90     -0.11  \n",
       "8122.0      266.94     39.23     42.12  \n",
       "9554.0      224.82     94.35     18.56  "
      ]
     },
     "execution_count": 15,
     "metadata": {},
     "output_type": "execute_result"
    }
   ],
   "source": [
    "#Checking the duplicated rows\n",
    "customers[customers.duplicated(keep=False)]"
   ]
  },
  {
   "cell_type": "markdown",
   "id": "6e1b68e9",
   "metadata": {},
   "source": [
    "We identified the duplicated rows presented above, however, we did not consider this a mistake, since it can just be a coincidence, and kept the records."
   ]
  },
  {
   "cell_type": "code",
   "execution_count": 8,
   "id": "21088c48",
   "metadata": {},
   "outputs": [
    {
     "data": {
      "text/html": [
       "<div>\n",
       "<style scoped>\n",
       "    .dataframe tbody tr th:only-of-type {\n",
       "        vertical-align: middle;\n",
       "    }\n",
       "\n",
       "    .dataframe tbody tr th {\n",
       "        vertical-align: top;\n",
       "    }\n",
       "\n",
       "    .dataframe thead th {\n",
       "        text-align: right;\n",
       "    }\n",
       "</style>\n",
       "<table border=\"1\" class=\"dataframe\">\n",
       "  <thead>\n",
       "    <tr style=\"text-align: right;\">\n",
       "      <th></th>\n",
       "      <th>count</th>\n",
       "      <th>mean</th>\n",
       "      <th>std</th>\n",
       "      <th>min</th>\n",
       "      <th>25%</th>\n",
       "      <th>50%</th>\n",
       "      <th>75%</th>\n",
       "      <th>max</th>\n",
       "    </tr>\n",
       "  </thead>\n",
       "  <tbody>\n",
       "    <tr>\n",
       "      <th>FirstPolYear</th>\n",
       "      <td>10266.0</td>\n",
       "      <td>1991.062634</td>\n",
       "      <td>511.267913</td>\n",
       "      <td>1974.00</td>\n",
       "      <td>1980.00</td>\n",
       "      <td>1986.00</td>\n",
       "      <td>1992.0000</td>\n",
       "      <td>53784.00</td>\n",
       "    </tr>\n",
       "    <tr>\n",
       "      <th>BirthYear</th>\n",
       "      <td>10279.0</td>\n",
       "      <td>1968.007783</td>\n",
       "      <td>19.709476</td>\n",
       "      <td>1028.00</td>\n",
       "      <td>1953.00</td>\n",
       "      <td>1968.00</td>\n",
       "      <td>1983.0000</td>\n",
       "      <td>2001.00</td>\n",
       "    </tr>\n",
       "    <tr>\n",
       "      <th>MonthSal</th>\n",
       "      <td>10260.0</td>\n",
       "      <td>2506.667057</td>\n",
       "      <td>1157.449634</td>\n",
       "      <td>333.00</td>\n",
       "      <td>1706.00</td>\n",
       "      <td>2501.50</td>\n",
       "      <td>3290.2500</td>\n",
       "      <td>55215.00</td>\n",
       "    </tr>\n",
       "    <tr>\n",
       "      <th>GeoLivArea</th>\n",
       "      <td>10295.0</td>\n",
       "      <td>2.709859</td>\n",
       "      <td>1.266291</td>\n",
       "      <td>1.00</td>\n",
       "      <td>1.00</td>\n",
       "      <td>3.00</td>\n",
       "      <td>4.0000</td>\n",
       "      <td>4.00</td>\n",
       "    </tr>\n",
       "    <tr>\n",
       "      <th>Children</th>\n",
       "      <td>10275.0</td>\n",
       "      <td>0.706764</td>\n",
       "      <td>0.455268</td>\n",
       "      <td>0.00</td>\n",
       "      <td>0.00</td>\n",
       "      <td>1.00</td>\n",
       "      <td>1.0000</td>\n",
       "      <td>1.00</td>\n",
       "    </tr>\n",
       "    <tr>\n",
       "      <th>CustMonVal</th>\n",
       "      <td>10296.0</td>\n",
       "      <td>177.892605</td>\n",
       "      <td>1945.811505</td>\n",
       "      <td>-165680.42</td>\n",
       "      <td>-9.44</td>\n",
       "      <td>186.87</td>\n",
       "      <td>399.7775</td>\n",
       "      <td>11875.89</td>\n",
       "    </tr>\n",
       "    <tr>\n",
       "      <th>ClaimsRate</th>\n",
       "      <td>10296.0</td>\n",
       "      <td>0.742772</td>\n",
       "      <td>2.916964</td>\n",
       "      <td>0.00</td>\n",
       "      <td>0.39</td>\n",
       "      <td>0.72</td>\n",
       "      <td>0.9800</td>\n",
       "      <td>256.20</td>\n",
       "    </tr>\n",
       "    <tr>\n",
       "      <th>PremMotor</th>\n",
       "      <td>10262.0</td>\n",
       "      <td>300.470252</td>\n",
       "      <td>211.914997</td>\n",
       "      <td>-4.11</td>\n",
       "      <td>190.59</td>\n",
       "      <td>298.61</td>\n",
       "      <td>408.3000</td>\n",
       "      <td>11604.42</td>\n",
       "    </tr>\n",
       "    <tr>\n",
       "      <th>PremHousehold</th>\n",
       "      <td>10296.0</td>\n",
       "      <td>210.431192</td>\n",
       "      <td>352.595984</td>\n",
       "      <td>-75.00</td>\n",
       "      <td>49.45</td>\n",
       "      <td>132.80</td>\n",
       "      <td>290.0500</td>\n",
       "      <td>25048.80</td>\n",
       "    </tr>\n",
       "    <tr>\n",
       "      <th>PremHealth</th>\n",
       "      <td>10253.0</td>\n",
       "      <td>171.580833</td>\n",
       "      <td>296.405976</td>\n",
       "      <td>-2.11</td>\n",
       "      <td>111.80</td>\n",
       "      <td>162.81</td>\n",
       "      <td>219.8200</td>\n",
       "      <td>28272.00</td>\n",
       "    </tr>\n",
       "    <tr>\n",
       "      <th>PremLife</th>\n",
       "      <td>10192.0</td>\n",
       "      <td>41.855782</td>\n",
       "      <td>47.480632</td>\n",
       "      <td>-7.00</td>\n",
       "      <td>9.89</td>\n",
       "      <td>25.56</td>\n",
       "      <td>57.7900</td>\n",
       "      <td>398.30</td>\n",
       "    </tr>\n",
       "    <tr>\n",
       "      <th>PremWork</th>\n",
       "      <td>10210.0</td>\n",
       "      <td>41.277514</td>\n",
       "      <td>51.513572</td>\n",
       "      <td>-12.00</td>\n",
       "      <td>10.67</td>\n",
       "      <td>25.67</td>\n",
       "      <td>56.7900</td>\n",
       "      <td>1988.70</td>\n",
       "    </tr>\n",
       "  </tbody>\n",
       "</table>\n",
       "</div>"
      ],
      "text/plain": [
       "                 count         mean          std        min      25%      50%  \\\n",
       "FirstPolYear   10266.0  1991.062634   511.267913    1974.00  1980.00  1986.00   \n",
       "BirthYear      10279.0  1968.007783    19.709476    1028.00  1953.00  1968.00   \n",
       "MonthSal       10260.0  2506.667057  1157.449634     333.00  1706.00  2501.50   \n",
       "GeoLivArea     10295.0     2.709859     1.266291       1.00     1.00     3.00   \n",
       "Children       10275.0     0.706764     0.455268       0.00     0.00     1.00   \n",
       "CustMonVal     10296.0   177.892605  1945.811505 -165680.42    -9.44   186.87   \n",
       "ClaimsRate     10296.0     0.742772     2.916964       0.00     0.39     0.72   \n",
       "PremMotor      10262.0   300.470252   211.914997      -4.11   190.59   298.61   \n",
       "PremHousehold  10296.0   210.431192   352.595984     -75.00    49.45   132.80   \n",
       "PremHealth     10253.0   171.580833   296.405976      -2.11   111.80   162.81   \n",
       "PremLife       10192.0    41.855782    47.480632      -7.00     9.89    25.56   \n",
       "PremWork       10210.0    41.277514    51.513572     -12.00    10.67    25.67   \n",
       "\n",
       "                     75%       max  \n",
       "FirstPolYear   1992.0000  53784.00  \n",
       "BirthYear      1983.0000   2001.00  \n",
       "MonthSal       3290.2500  55215.00  \n",
       "GeoLivArea        4.0000      4.00  \n",
       "Children          1.0000      1.00  \n",
       "CustMonVal      399.7775  11875.89  \n",
       "ClaimsRate        0.9800    256.20  \n",
       "PremMotor       408.3000  11604.42  \n",
       "PremHousehold   290.0500  25048.80  \n",
       "PremHealth      219.8200  28272.00  \n",
       "PremLife         57.7900    398.30  \n",
       "PremWork         56.7900   1988.70  "
      ]
     },
     "execution_count": 8,
     "metadata": {},
     "output_type": "execute_result"
    }
   ],
   "source": [
    "#Descriptive statistics\n",
    "customers.describe().T"
   ]
  },
  {
   "cell_type": "markdown",
   "id": "82950148",
   "metadata": {},
   "source": [
    "### 1.2. Visual Exploration"
   ]
  },
  {
   "cell_type": "code",
   "execution_count": 16,
   "id": "5af6c36c",
   "metadata": {},
   "outputs": [],
   "source": [
    "#Defining metric and non-metric features\n",
    "non_metric_features = [\"EducDeg\", \"GeoLivArea\", \"Children\"]\n",
    "metric_features = customers.columns.drop(non_metric_features).to_list()"
   ]
  },
  {
   "cell_type": "code",
   "execution_count": 32,
   "id": "ec8978ef",
   "metadata": {},
   "outputs": [
    {
     "data": {
      "image/png": "[encoded data removed]",
      "text/plain": [
       "<Figure size 2880x2880 with 10 Axes>"
      ]
     },
     "metadata": {},
     "output_type": "display_data"
    }
   ],
   "source": [
    "sns.set()\n",
    "\n",
    "# Prepare figure. Create individual axes where each box plot will be placed\n",
    "fig, axes = plt.subplots(5, ceil(len(metric_features) / 5), figsize=(40, 40))\n",
    "\n",
    "# Plot data\n",
    "# Iterate across axes objects and associate each box plot (hint: use the ax argument):\n",
    "for ax, feat in zip(axes.flatten(), metric_features): # Notice the zip() function and flatten() method\n",
    "    sns.boxplot(x=customers[feat], ax=ax)\n",
    "\n",
    "# Layout\n",
    "# Add a centered title to the figure:\n",
    "title = \"Numeric Variables' Box Plots\"\n",
    "\n",
    "plt.suptitle(title)\n",
    "\n",
    "plt.show()"
   ]
  },
  {
   "cell_type": "code",
   "execution_count": 18,
   "id": "de25d41e",
   "metadata": {},
   "outputs": [
    {
     "data": {
      "text/plain": [
       "b'3 - BSc/MSc'        4799\n",
       "b'2 - High School'    3510\n",
       "b'1 - Basic'          1272\n",
       "b'4 - PhD'             698\n",
       "NaN                     17\n",
       "Name: EducDeg, dtype: int64"
      ]
     },
     "execution_count": 18,
     "metadata": {},
     "output_type": "execute_result"
    }
   ],
   "source": [
    "customers['EducDeg'].value_counts(dropna=False)"
   ]
  },
  {
   "cell_type": "markdown",
   "id": "986dff8f",
   "metadata": {},
   "source": [
    "## 3. Data Preprocessing"
   ]
  },
  {
   "cell_type": "markdown",
   "id": "41bd03ab",
   "metadata": {},
   "source": [
    "### 3.1 Format Data"
   ]
  },
  {
   "cell_type": "code",
   "execution_count": null,
   "id": "ef35db91",
   "metadata": {},
   "outputs": [],
   "source": [
    "# fix wrong dtypes\n",
    "customers.Children = customers.Children.astype(\"boolean\")"
   ]
  },
  {
   "cell_type": "markdown",
   "id": "1c27689f",
   "metadata": {},
   "source": [
    "#### 3.1.1 Encoding"
   ]
  },
  {
   "cell_type": "code",
   "execution_count": null,
   "id": "a8221514",
   "metadata": {},
   "outputs": [],
   "source": [
    "customers['EducDeg'].replace(to_replace = \"b'4 - PhD'\",value = 3, inplace = True)\n",
    "customers['EducDeg'].replace(to_replace = \"b'3 - BSc/MSc'\",value = 2, inplace = True)\n",
    "customers['EducDeg'].replace(to_replace = \"b'2 - High School'\",value = 1, inplace = True)\n",
    "customers['EducDeg'].replace(to_replace = \"b'1 - Basic'\",value = 0, inplace = True)\n",
    "customers['EducDeg'].value_counts(dropna=False)"
   ]
  },
  {
   "cell_type": "markdown",
   "id": "f1fb23c0",
   "metadata": {},
   "source": [
    "### 3.2 Missing Values"
   ]
  },
  {
   "cell_type": "code",
   "execution_count": null,
   "id": "2c7fd56b",
   "metadata": {},
   "outputs": [],
   "source": [
    "customers.median(numeric_only=True)"
   ]
  },
  {
   "cell_type": "code",
   "execution_count": null,
   "id": "5d93b560",
   "metadata": {},
   "outputs": [],
   "source": [
    "modes = customers[non_metric_features].mode().loc[0]"
   ]
  },
  {
   "cell_type": "code",
   "execution_count": null,
   "id": "f7117e05",
   "metadata": {},
   "outputs": [],
   "source": [
    "modes"
   ]
  },
  {
   "cell_type": "code",
   "execution_count": null,
   "id": "b776fe25",
   "metadata": {},
   "outputs": [],
   "source": [
    "customers.fillna(modes, inplace=True)\n",
    "customers.isna().sum()  # checking how many NaNs we still have"
   ]
  },
  {
   "cell_type": "code",
   "execution_count": null,
   "id": "9087b8c1",
   "metadata": {},
   "outputs": [],
   "source": [
    "from sklearn.impute import KNNImputer"
   ]
  },
  {
   "cell_type": "code",
   "execution_count": null,
   "id": "d6372cc9",
   "metadata": {},
   "outputs": [],
   "source": [
    "imputer.fit(customers[metric_features].values.reshape(-1, 1))\n",
    "customers[metric_features] = imputer.transform(customers[metric_features].values.reshape(-1, 1))"
   ]
  },
  {
   "cell_type": "code",
   "execution_count": null,
   "id": "0254f4cf",
   "metadata": {},
   "outputs": [],
   "source": []
  }
 ],
 "metadata": {
  "kernelspec": {
   "display_name": "Python 3 (ipykernel)",
   "language": "python",
   "name": "python3"
  },
  "language_info": {
   "codemirror_mode": {
    "name": "ipython",
    "version": 3
   },
   "file_extension": ".py",
   "mimetype": "text/x-python",
   "name": "python",
   "nbconvert_exporter": "python",
   "pygments_lexer": "ipython3",
   "version": "3.9.12"
  }
 },
 "nbformat": 4,
 "nbformat_minor": 5
}
